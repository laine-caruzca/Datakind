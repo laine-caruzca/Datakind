{
 "cells": [
  {
   "cell_type": "code",
   "execution_count": 11,
   "metadata": {},
   "outputs": [
    {
     "name": "stdout",
     "output_type": "stream",
     "text": [
      "Requirement already satisfied: descartes in c:\\users\\laine\\anaconda3\\lib\\site-packages (1.1.0)\n",
      "Requirement already satisfied: matplotlib in c:\\users\\laine\\anaconda3\\lib\\site-packages (from descartes) (2.2.2)\n",
      "Requirement already satisfied: numpy>=1.7.1 in c:\\users\\laine\\anaconda3\\lib\\site-packages (from matplotlib->descartes) (1.14.3)\n",
      "Requirement already satisfied: cycler>=0.10 in c:\\users\\laine\\anaconda3\\lib\\site-packages (from matplotlib->descartes) (0.10.0)\n",
      "Requirement already satisfied: pyparsing!=2.0.4,!=2.1.2,!=2.1.6,>=2.0.1 in c:\\users\\laine\\anaconda3\\lib\\site-packages (from matplotlib->descartes) (2.2.0)\n",
      "Requirement already satisfied: python-dateutil>=2.1 in c:\\users\\laine\\anaconda3\\lib\\site-packages (from matplotlib->descartes) (2.7.3)\n",
      "Requirement already satisfied: pytz in c:\\users\\laine\\anaconda3\\lib\\site-packages (from matplotlib->descartes) (2018.4)\n",
      "Requirement already satisfied: six>=1.10 in c:\\users\\laine\\anaconda3\\lib\\site-packages (from matplotlib->descartes) (1.11.0)\n",
      "Requirement already satisfied: kiwisolver>=1.0.1 in c:\\users\\laine\\anaconda3\\lib\\site-packages (from matplotlib->descartes) (1.0.1)\n",
      "Requirement already satisfied: setuptools in c:\\users\\laine\\anaconda3\\lib\\site-packages (from kiwisolver>=1.0.1->matplotlib->descartes) (39.1.0)\n"
     ]
    },
    {
     "name": "stderr",
     "output_type": "stream",
     "text": [
      "distributed 1.21.8 requires msgpack, which is not installed.\n",
      "You are using pip version 10.0.1, however version 19.1.1 is available.\n",
      "You should consider upgrading via the 'python -m pip install --upgrade pip' command.\n"
     ]
    }
   ],
   "source": [
    "!pip install descartes"
   ]
  },
  {
   "cell_type": "code",
   "execution_count": 9,
   "metadata": {},
   "outputs": [],
   "source": [
    "import pandas as pd\n",
    "import matplotlib as plt"
   ]
  },
  {
   "cell_type": "code",
   "execution_count": 12,
   "metadata": {},
   "outputs": [],
   "source": [
    "import geopandas as gpd"
   ]
  },
  {
   "cell_type": "code",
   "execution_count": null,
   "metadata": {},
   "outputs": [],
   "source": []
  }
 ],
 "metadata": {
  "kernelspec": {
   "display_name": "Python 3",
   "language": "python",
   "name": "python3"
  },
  "language_info": {
   "codemirror_mode": {
    "name": "ipython",
    "version": 3
   },
   "file_extension": ".py",
   "mimetype": "text/x-python",
   "name": "python",
   "nbconvert_exporter": "python",
   "pygments_lexer": "ipython3",
   "version": "3.6.5"
  }
 },
 "nbformat": 4,
 "nbformat_minor": 2
}
